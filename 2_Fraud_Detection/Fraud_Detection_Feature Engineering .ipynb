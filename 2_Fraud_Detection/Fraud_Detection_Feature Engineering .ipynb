{
 "cells": [
  {
   "cell_type": "markdown",
   "metadata": {},
   "source": [
    "## Feature Engineering 전략\n",
    "#### 엔지니어링 적으로 단일 변수별로 중요 카테고리가 있을 경우 이를 상기시켜준다\n",
    "#### 특정 카테고리가 상대적으로 Positive value 가 많다 또는 전체 분포와의 차이가 많다\n",
    "##### 1.1 True Value 상위에 있는 단순비율 -> 클 수록 좋음\n",
    "##### 1.2 True value 분포 (비율) - 실제 분포 (비율?) 가 큰 경우\n",
    "##### 1.3 True value row의 수 / 전체 value row 수 -> 클 수록 좋음\n",
    "##### 1.4 True value 분포 비율 / 전체 분포에서 비율 -> 클 수록 좋음\n",
    "\n",
    "##### 2. 위 생성된 수치 데이터들에 대해 clustering!\n",
    "\n",
    "##### 3. 다변량으로 처리할 수 있는 방법 생각 ex) 교집합의 비율, 커널 참고\n",
    "\n",
    "#### Base Line 모델 설정 후 전 후 비교를 통해 엔지니어링 효과 점검"
   ]
  },
  {
   "cell_type": "code",
   "execution_count": 2,
   "metadata": {},
   "outputs": [],
   "source": [
    "import pandas as pd\n",
    "import numpy as np\n",
    "import os\n",
    "from sklearn.ensemble import RandomForestClassifier\n",
    "from sklearn.model_selection import train_test_split\n",
    "from sklearn.utils import resample\n",
    "import time"
   ]
  },
  {
   "cell_type": "code",
   "execution_count": 3,
   "metadata": {},
   "outputs": [],
   "source": [
    "root = r'D:/data/2_FraudDetection/preprocessed/'\n",
    "train_fname ='train_parsed_date.csv'\n",
    "test_fname = 'test_parsed_date.csv'\n",
    "train_is_attributed_all = 'train_is_attributed_all.csv'"
   ]
  },
  {
   "cell_type": "code",
   "execution_count": 4,
   "metadata": {},
   "outputs": [],
   "source": [
    "df_is_attributed_all = pd.read_csv(os.path.join(root,train_is_attributed_all))\n",
    "df_train =  pd.read_csv(os.path.join(root,train_fname))\n",
    "df_test = pd.read_csv(os.path.join(root,test_fname))"
   ]
  },
  {
   "cell_type": "code",
   "execution_count": 5,
   "metadata": {},
   "outputs": [
    {
     "name": "stdout",
     "output_type": "stream",
     "text": [
      "<class 'pandas.core.frame.DataFrame'>\n",
      "RangeIndex: 456846 entries, 0 to 456845\n",
      "Data columns (total 11 columns):\n",
      "ip                 456846 non-null int64\n",
      "app                456846 non-null int64\n",
      "device             456846 non-null int64\n",
      "os                 456846 non-null int64\n",
      "channel            456846 non-null int64\n",
      "click_time         456846 non-null object\n",
      "attributed_time    456846 non-null object\n",
      "is_attributed      456846 non-null int64\n",
      "year               456846 non-null int64\n",
      "weekday            456846 non-null int64\n",
      "hour               456846 non-null int64\n",
      "dtypes: int64(9), object(2)\n",
      "memory usage: 38.3+ MB\n"
     ]
    }
   ],
   "source": [
    "df_is_attributed_all.info()"
   ]
  },
  {
   "cell_type": "code",
   "execution_count": 6,
   "metadata": {
    "scrolled": true
   },
   "outputs": [
    {
     "data": {
      "text/html": [
       "<div>\n",
       "<style scoped>\n",
       "    .dataframe tbody tr th:only-of-type {\n",
       "        vertical-align: middle;\n",
       "    }\n",
       "\n",
       "    .dataframe tbody tr th {\n",
       "        vertical-align: top;\n",
       "    }\n",
       "\n",
       "    .dataframe thead th {\n",
       "        text-align: right;\n",
       "    }\n",
       "</style>\n",
       "<table border=\"1\" class=\"dataframe\">\n",
       "  <thead>\n",
       "    <tr style=\"text-align: right;\">\n",
       "      <th></th>\n",
       "      <th>ip</th>\n",
       "      <th>app</th>\n",
       "      <th>device</th>\n",
       "      <th>os</th>\n",
       "      <th>channel</th>\n",
       "      <th>click_time</th>\n",
       "      <th>attributed_time</th>\n",
       "      <th>is_attributed</th>\n",
       "      <th>year</th>\n",
       "      <th>weekday</th>\n",
       "      <th>hour</th>\n",
       "    </tr>\n",
       "  </thead>\n",
       "  <tbody>\n",
       "    <tr>\n",
       "      <th>0</th>\n",
       "      <td>134575</td>\n",
       "      <td>3</td>\n",
       "      <td>1</td>\n",
       "      <td>13</td>\n",
       "      <td>379</td>\n",
       "      <td>2017-11-06 14:43:10</td>\n",
       "      <td>NaN</td>\n",
       "      <td>0</td>\n",
       "      <td>2017</td>\n",
       "      <td>0</td>\n",
       "      <td>14</td>\n",
       "    </tr>\n",
       "    <tr>\n",
       "      <th>1</th>\n",
       "      <td>73503</td>\n",
       "      <td>3</td>\n",
       "      <td>1</td>\n",
       "      <td>18</td>\n",
       "      <td>379</td>\n",
       "      <td>2017-11-06 14:49:43</td>\n",
       "      <td>NaN</td>\n",
       "      <td>0</td>\n",
       "      <td>2017</td>\n",
       "      <td>0</td>\n",
       "      <td>14</td>\n",
       "    </tr>\n",
       "    <tr>\n",
       "      <th>2</th>\n",
       "      <td>74715</td>\n",
       "      <td>3</td>\n",
       "      <td>1</td>\n",
       "      <td>19</td>\n",
       "      <td>379</td>\n",
       "      <td>2017-11-06 14:55:25</td>\n",
       "      <td>NaN</td>\n",
       "      <td>0</td>\n",
       "      <td>2017</td>\n",
       "      <td>0</td>\n",
       "      <td>14</td>\n",
       "    </tr>\n",
       "    <tr>\n",
       "      <th>3</th>\n",
       "      <td>153492</td>\n",
       "      <td>3</td>\n",
       "      <td>1</td>\n",
       "      <td>17</td>\n",
       "      <td>379</td>\n",
       "      <td>2017-11-06 15:03:11</td>\n",
       "      <td>NaN</td>\n",
       "      <td>0</td>\n",
       "      <td>2017</td>\n",
       "      <td>0</td>\n",
       "      <td>15</td>\n",
       "    </tr>\n",
       "    <tr>\n",
       "      <th>4</th>\n",
       "      <td>192796</td>\n",
       "      <td>3</td>\n",
       "      <td>1</td>\n",
       "      <td>19</td>\n",
       "      <td>379</td>\n",
       "      <td>2017-11-06 15:07:24</td>\n",
       "      <td>NaN</td>\n",
       "      <td>0</td>\n",
       "      <td>2017</td>\n",
       "      <td>0</td>\n",
       "      <td>15</td>\n",
       "    </tr>\n",
       "  </tbody>\n",
       "</table>\n",
       "</div>"
      ],
      "text/plain": [
       "       ip  app  device  os  channel           click_time attributed_time  \\\n",
       "0  134575    3       1  13      379  2017-11-06 14:43:10             NaN   \n",
       "1   73503    3       1  18      379  2017-11-06 14:49:43             NaN   \n",
       "2   74715    3       1  19      379  2017-11-06 14:55:25             NaN   \n",
       "3  153492    3       1  17      379  2017-11-06 15:03:11             NaN   \n",
       "4  192796    3       1  19      379  2017-11-06 15:07:24             NaN   \n",
       "\n",
       "   is_attributed  year  weekday  hour  \n",
       "0              0  2017        0    14  \n",
       "1              0  2017        0    14  \n",
       "2              0  2017        0    14  \n",
       "3              0  2017        0    15  \n",
       "4              0  2017        0    15  "
      ]
     },
     "execution_count": 6,
     "metadata": {},
     "output_type": "execute_result"
    }
   ],
   "source": [
    "df_train.head()"
   ]
  },
  {
   "cell_type": "code",
   "execution_count": 7,
   "metadata": {
    "scrolled": true
   },
   "outputs": [
    {
     "data": {
      "text/html": [
       "<div>\n",
       "<style scoped>\n",
       "    .dataframe tbody tr th:only-of-type {\n",
       "        vertical-align: middle;\n",
       "    }\n",
       "\n",
       "    .dataframe tbody tr th {\n",
       "        vertical-align: top;\n",
       "    }\n",
       "\n",
       "    .dataframe thead th {\n",
       "        text-align: right;\n",
       "    }\n",
       "</style>\n",
       "<table border=\"1\" class=\"dataframe\">\n",
       "  <thead>\n",
       "    <tr style=\"text-align: right;\">\n",
       "      <th></th>\n",
       "      <th>click_id</th>\n",
       "      <th>ip</th>\n",
       "      <th>app</th>\n",
       "      <th>device</th>\n",
       "      <th>os</th>\n",
       "      <th>channel</th>\n",
       "      <th>click_time</th>\n",
       "      <th>year</th>\n",
       "      <th>weekday</th>\n",
       "      <th>hour</th>\n",
       "    </tr>\n",
       "  </thead>\n",
       "  <tbody>\n",
       "    <tr>\n",
       "      <th>0</th>\n",
       "      <td>0</td>\n",
       "      <td>5744</td>\n",
       "      <td>9</td>\n",
       "      <td>1</td>\n",
       "      <td>3</td>\n",
       "      <td>107</td>\n",
       "      <td>2017-11-10 04:00:00</td>\n",
       "      <td>2017</td>\n",
       "      <td>4</td>\n",
       "      <td>4</td>\n",
       "    </tr>\n",
       "    <tr>\n",
       "      <th>1</th>\n",
       "      <td>1</td>\n",
       "      <td>119901</td>\n",
       "      <td>9</td>\n",
       "      <td>1</td>\n",
       "      <td>3</td>\n",
       "      <td>466</td>\n",
       "      <td>2017-11-10 04:00:00</td>\n",
       "      <td>2017</td>\n",
       "      <td>4</td>\n",
       "      <td>4</td>\n",
       "    </tr>\n",
       "    <tr>\n",
       "      <th>2</th>\n",
       "      <td>2</td>\n",
       "      <td>72287</td>\n",
       "      <td>21</td>\n",
       "      <td>1</td>\n",
       "      <td>19</td>\n",
       "      <td>128</td>\n",
       "      <td>2017-11-10 04:00:00</td>\n",
       "      <td>2017</td>\n",
       "      <td>4</td>\n",
       "      <td>4</td>\n",
       "    </tr>\n",
       "    <tr>\n",
       "      <th>3</th>\n",
       "      <td>3</td>\n",
       "      <td>78477</td>\n",
       "      <td>15</td>\n",
       "      <td>1</td>\n",
       "      <td>13</td>\n",
       "      <td>111</td>\n",
       "      <td>2017-11-10 04:00:00</td>\n",
       "      <td>2017</td>\n",
       "      <td>4</td>\n",
       "      <td>4</td>\n",
       "    </tr>\n",
       "    <tr>\n",
       "      <th>4</th>\n",
       "      <td>4</td>\n",
       "      <td>123080</td>\n",
       "      <td>12</td>\n",
       "      <td>1</td>\n",
       "      <td>13</td>\n",
       "      <td>328</td>\n",
       "      <td>2017-11-10 04:00:00</td>\n",
       "      <td>2017</td>\n",
       "      <td>4</td>\n",
       "      <td>4</td>\n",
       "    </tr>\n",
       "  </tbody>\n",
       "</table>\n",
       "</div>"
      ],
      "text/plain": [
       "   click_id      ip  app  device  os  channel           click_time  year  \\\n",
       "0         0    5744    9       1   3      107  2017-11-10 04:00:00  2017   \n",
       "1         1  119901    9       1   3      466  2017-11-10 04:00:00  2017   \n",
       "2         2   72287   21       1  19      128  2017-11-10 04:00:00  2017   \n",
       "3         3   78477   15       1  13      111  2017-11-10 04:00:00  2017   \n",
       "4         4  123080   12       1  13      328  2017-11-10 04:00:00  2017   \n",
       "\n",
       "   weekday  hour  \n",
       "0        4     4  \n",
       "1        4     4  \n",
       "2        4     4  \n",
       "3        4     4  \n",
       "4        4     4  "
      ]
     },
     "execution_count": 7,
     "metadata": {},
     "output_type": "execute_result"
    }
   ],
   "source": [
    "df_test.head()"
   ]
  },
  {
   "cell_type": "code",
   "execution_count": 8,
   "metadata": {},
   "outputs": [
    {
     "data": {
      "text/plain": [
       "Index(['ip', 'app', 'device', 'os', 'channel', 'click_time', 'attributed_time',\n",
       "       'is_attributed', 'year', 'weekday', 'hour'],\n",
       "      dtype='object')"
      ]
     },
     "execution_count": 8,
     "metadata": {},
     "output_type": "execute_result"
    }
   ],
   "source": [
    "df_train.columns"
   ]
  },
  {
   "cell_type": "code",
   "execution_count": 9,
   "metadata": {},
   "outputs": [],
   "source": [
    "## Label Encoding using Dictionary\n",
    "# Need process for unseen data (label)\n",
    "\n",
    "categorical_cols = ['ip', 'app', 'device', 'os',\n",
    "                    'channel']\n",
    "total_label_dict = {}\n",
    "for col in categorical_cols:    \n",
    "    set1 = set(df_is_attributed_all[col].unique())\n",
    "    set2 = set(df_train[col].unique())\n",
    "    total_labels = list(set1.union(set2))\n",
    "    label_dict = dict(zip(total_labels,range(len(total_labels))))\n",
    "    total_label_dict[col] = label_dict\n",
    "    df_train[col] = df_train[col].map(total_label_dict[col])\n",
    "    df_is_attributed_all[col] = df_is_attributed_all[col].map(total_label_dict[col])\n"
   ]
  },
  {
   "cell_type": "markdown",
   "metadata": {},
   "source": [
    "##### 1.1 True positive에서 비율\n",
    "* 각각 column에서 label마다 비율 구해서 dictionary에 담은 후 \n",
    "* 새로운 칼럼으로 추가"
   ]
  },
  {
   "cell_type": "code",
   "execution_count": 10,
   "metadata": {},
   "outputs": [],
   "source": [
    "### value마다 비율을 넣어주는 dictionary 생성\n",
    "### 만약 여기에 없는 value (not in keys) 일 경우 0 대입\n",
    "\n",
    "from sklearn.preprocessing import StandardScaler \n",
    "\n",
    "## 프로토 타입 완성\n",
    "ip_ratio_dict_total = {}\n",
    "ratios = pd.value_counts(df_is_attributed_all['app'], normalize=True)\n",
    "\n",
    "## Scaler\n",
    "scaler_dict = {}\n",
    "sc = StandardScaler()\n",
    "ratios_scaled = sc.fit_transform(ratios.values.reshape(-1,1))\n",
    "scaler_dict['app'] =  sc\n",
    "ip_ratio_dict_total['app'] = dict(zip(ratios.index,ratios_scaled.T[0]))\n",
    "df_train['app_true_ratio'] = df_train.app.map(lambda x : ip_ratio_dict_total['app'][x] if  x in  ip_ratio_dict_total['app'].keys() else 0)\n",
    "\n",
    "## For 문으로 다 돌리자"
   ]
  },
  {
   "cell_type": "code",
   "execution_count": 11,
   "metadata": {},
   "outputs": [
    {
     "name": "stdout",
     "output_type": "stream",
     "text": [
      "Start  Engineering Feature 1 app\n",
      "Start  Engineering Feature 1 device\n",
      "Start  Engineering Feature 1 os\n",
      "Start  Engineering Feature 1 channel\n",
      "Start  Engineering Feature 1 hour\n"
     ]
    }
   ],
   "source": [
    "fe_cols = ['app','device','os','channel','hour']\n",
    "\n",
    "f1_dict_total = {}\n",
    "scaler_dict = {}\n",
    "\n",
    "for col in fe_cols:\n",
    "    \n",
    "    print('Start  Engineering Feature 1',col)\n",
    "    ratios_true = pd.value_counts(df_is_attributed_all[col], normalize=True)\n",
    "    ratio_real = pd.value_counts(df_train[col], normalize=True)\n",
    "    sc = StandardScaler()    \n",
    "    ratios_scaled = sc.fit_transform(ratios.values.reshape(-1,1))\n",
    "    f1_dict_total[col] = {'dict':dict(zip(ratios.index,ratios_scaled.T[0])), 'scaler' : sc}\n",
    "    df_train['f1_true_ratio_'+col] = df_train[col].map(lambda x : f1_dict_total[col]['dict'][x] if  x in  f1_dict_total[col]['dict'].keys() else 0)\n",
    "    #df_train['f1_true_ratio_'+col] = df_train[col].map(lambda x : f1_dict_total[col]['dict'][x] if  x in  f1_dict_total[col].keys() else 0)\n"
   ]
  },
  {
   "cell_type": "code",
   "execution_count": 12,
   "metadata": {
    "scrolled": true
   },
   "outputs": [
    {
     "data": {
      "text/html": [
       "<div>\n",
       "<style scoped>\n",
       "    .dataframe tbody tr th:only-of-type {\n",
       "        vertical-align: middle;\n",
       "    }\n",
       "\n",
       "    .dataframe tbody tr th {\n",
       "        vertical-align: top;\n",
       "    }\n",
       "\n",
       "    .dataframe thead th {\n",
       "        text-align: right;\n",
       "    }\n",
       "</style>\n",
       "<table border=\"1\" class=\"dataframe\">\n",
       "  <thead>\n",
       "    <tr style=\"text-align: right;\">\n",
       "      <th></th>\n",
       "      <th>ip</th>\n",
       "      <th>app</th>\n",
       "      <th>device</th>\n",
       "      <th>os</th>\n",
       "      <th>channel</th>\n",
       "      <th>click_time</th>\n",
       "      <th>attributed_time</th>\n",
       "      <th>is_attributed</th>\n",
       "      <th>year</th>\n",
       "      <th>weekday</th>\n",
       "      <th>hour</th>\n",
       "      <th>app_true_ratio</th>\n",
       "      <th>f1_true_ratio_app</th>\n",
       "      <th>f1_true_ratio_device</th>\n",
       "      <th>f1_true_ratio_os</th>\n",
       "      <th>f1_true_ratio_channel</th>\n",
       "      <th>f1_true_ratio_hour</th>\n",
       "    </tr>\n",
       "  </thead>\n",
       "  <tbody>\n",
       "    <tr>\n",
       "      <th>0</th>\n",
       "      <td>46881</td>\n",
       "      <td>3</td>\n",
       "      <td>1</td>\n",
       "      <td>13</td>\n",
       "      <td>124</td>\n",
       "      <td>2017-11-06 14:43:10</td>\n",
       "      <td>NaN</td>\n",
       "      <td>0</td>\n",
       "      <td>2017</td>\n",
       "      <td>0</td>\n",
       "      <td>14</td>\n",
       "      <td>0.77648</td>\n",
       "      <td>0.77648</td>\n",
       "      <td>-0.074584</td>\n",
       "      <td>-0.122551</td>\n",
       "      <td>0.0</td>\n",
       "      <td>0.045570</td>\n",
       "    </tr>\n",
       "    <tr>\n",
       "      <th>1</th>\n",
       "      <td>22688</td>\n",
       "      <td>3</td>\n",
       "      <td>1</td>\n",
       "      <td>18</td>\n",
       "      <td>124</td>\n",
       "      <td>2017-11-06 14:49:43</td>\n",
       "      <td>NaN</td>\n",
       "      <td>0</td>\n",
       "      <td>2017</td>\n",
       "      <td>0</td>\n",
       "      <td>14</td>\n",
       "      <td>0.77648</td>\n",
       "      <td>0.77648</td>\n",
       "      <td>-0.074584</td>\n",
       "      <td>0.555775</td>\n",
       "      <td>0.0</td>\n",
       "      <td>0.045570</td>\n",
       "    </tr>\n",
       "    <tr>\n",
       "      <th>2</th>\n",
       "      <td>23006</td>\n",
       "      <td>3</td>\n",
       "      <td>1</td>\n",
       "      <td>19</td>\n",
       "      <td>124</td>\n",
       "      <td>2017-11-06 14:55:25</td>\n",
       "      <td>NaN</td>\n",
       "      <td>0</td>\n",
       "      <td>2017</td>\n",
       "      <td>0</td>\n",
       "      <td>14</td>\n",
       "      <td>0.77648</td>\n",
       "      <td>0.77648</td>\n",
       "      <td>-0.074584</td>\n",
       "      <td>12.285683</td>\n",
       "      <td>0.0</td>\n",
       "      <td>0.045570</td>\n",
       "    </tr>\n",
       "    <tr>\n",
       "      <th>3</th>\n",
       "      <td>65267</td>\n",
       "      <td>3</td>\n",
       "      <td>1</td>\n",
       "      <td>17</td>\n",
       "      <td>124</td>\n",
       "      <td>2017-11-06 15:03:11</td>\n",
       "      <td>NaN</td>\n",
       "      <td>0</td>\n",
       "      <td>2017</td>\n",
       "      <td>0</td>\n",
       "      <td>15</td>\n",
       "      <td>0.77648</td>\n",
       "      <td>0.77648</td>\n",
       "      <td>-0.074584</td>\n",
       "      <td>-0.142435</td>\n",
       "      <td>0.0</td>\n",
       "      <td>0.131609</td>\n",
       "    </tr>\n",
       "    <tr>\n",
       "      <th>4</th>\n",
       "      <td>103558</td>\n",
       "      <td>3</td>\n",
       "      <td>1</td>\n",
       "      <td>19</td>\n",
       "      <td>124</td>\n",
       "      <td>2017-11-06 15:07:24</td>\n",
       "      <td>NaN</td>\n",
       "      <td>0</td>\n",
       "      <td>2017</td>\n",
       "      <td>0</td>\n",
       "      <td>15</td>\n",
       "      <td>0.77648</td>\n",
       "      <td>0.77648</td>\n",
       "      <td>-0.074584</td>\n",
       "      <td>12.285683</td>\n",
       "      <td>0.0</td>\n",
       "      <td>0.131609</td>\n",
       "    </tr>\n",
       "  </tbody>\n",
       "</table>\n",
       "</div>"
      ],
      "text/plain": [
       "       ip  app  device  os  channel           click_time attributed_time  \\\n",
       "0   46881    3       1  13      124  2017-11-06 14:43:10             NaN   \n",
       "1   22688    3       1  18      124  2017-11-06 14:49:43             NaN   \n",
       "2   23006    3       1  19      124  2017-11-06 14:55:25             NaN   \n",
       "3   65267    3       1  17      124  2017-11-06 15:03:11             NaN   \n",
       "4  103558    3       1  19      124  2017-11-06 15:07:24             NaN   \n",
       "\n",
       "   is_attributed  year  weekday  hour  app_true_ratio  f1_true_ratio_app  \\\n",
       "0              0  2017        0    14         0.77648            0.77648   \n",
       "1              0  2017        0    14         0.77648            0.77648   \n",
       "2              0  2017        0    14         0.77648            0.77648   \n",
       "3              0  2017        0    15         0.77648            0.77648   \n",
       "4              0  2017        0    15         0.77648            0.77648   \n",
       "\n",
       "   f1_true_ratio_device  f1_true_ratio_os  f1_true_ratio_channel  \\\n",
       "0             -0.074584         -0.122551                    0.0   \n",
       "1             -0.074584          0.555775                    0.0   \n",
       "2             -0.074584         12.285683                    0.0   \n",
       "3             -0.074584         -0.142435                    0.0   \n",
       "4             -0.074584         12.285683                    0.0   \n",
       "\n",
       "   f1_true_ratio_hour  \n",
       "0            0.045570  \n",
       "1            0.045570  \n",
       "2            0.045570  \n",
       "3            0.131609  \n",
       "4            0.131609  "
      ]
     },
     "execution_count": 12,
     "metadata": {},
     "output_type": "execute_result"
    }
   ],
   "source": [
    "df_train.head()"
   ]
  },
  {
   "cell_type": "markdown",
   "metadata": {},
   "source": [
    "##### 1.2 True value 분포 (비율) - 실제 분포 (비율) \n",
    "* df_is_attributed_all -> true value\n",
    "* df_train -> 실제 분포\n",
    "* point : 서로 key가 다를 수 있다 어떻게 통일할 지가 중요\n",
    "* -1 < new_feature < 1"
   ]
  },
  {
   "cell_type": "code",
   "execution_count": 13,
   "metadata": {},
   "outputs": [
    {
     "name": "stdout",
     "output_type": "stream",
     "text": [
      "Start  Engineering Feature 2 app\n"
     ]
    },
    {
     "name": "stderr",
     "output_type": "stream",
     "text": [
      "c:\\users\\82103\\anaconda3\\envs\\cuda\\lib\\site-packages\\pandas\\core\\series.py:842: FutureWarning: \n",
      "Passing list-likes to .loc or [] with any missing label will raise\n",
      "KeyError in the future, you can use .reindex() as an alternative.\n",
      "\n",
      "See the documentation here:\n",
      "https://pandas.pydata.org/pandas-docs/stable/indexing.html#deprecate-loc-reindex-listlike\n",
      "  return self.loc[key]\n"
     ]
    },
    {
     "name": "stdout",
     "output_type": "stream",
     "text": [
      "Start  Engineering Feature 2 device\n",
      "Start  Engineering Feature 2 os\n",
      "Start  Engineering Feature 2 channel\n",
      "Start  Engineering Feature 2 hour\n"
     ]
    }
   ],
   "source": [
    "f2_dict_total = {}\n",
    "\n",
    "for col in fe_cols :\n",
    "    print('Start  Engineering Feature 2',col)\n",
    "    \n",
    "    ## 각각 비율 구하기\n",
    "    ratio_true = pd.value_counts(df_is_attributed_all[col], normalize=True)\n",
    "    ratio_real = pd.value_counts(df_train[col], normalize=True)\n",
    "\n",
    "    # 서로 서로 없는 건 0으로 채워야\n",
    "\n",
    "    real_set = set(ratio_real.index)\n",
    "    true_set = set(ratio_true.index)\n",
    "    total_index = real_set.union(true_set)\n",
    "\n",
    "    ratio_real_filled = ratio_real[total_index].fillna(value = 0)\n",
    "    ratio_true_filled = ratio_true[total_index].fillna(value = 0)\n",
    "\n",
    "    ratio_sub = ratio_true_filled - ratio_real_filled\n",
    "    f2_dict_total[col] = dict(zip(ratio_sub.index,ratio_sub))\n",
    "\n",
    "    ## index가 없을 경우 -1로 채우기 (최소값)\n",
    "    df_train['f2_ratio_sub'+col] = df_train[col].map(lambda x : f2_dict_total[col][x] if  x in  f2_dict_total[col].keys() else -1)\n"
   ]
  },
  {
   "cell_type": "code",
   "execution_count": 14,
   "metadata": {},
   "outputs": [
    {
     "data": {
      "text/html": [
       "<div>\n",
       "<style scoped>\n",
       "    .dataframe tbody tr th:only-of-type {\n",
       "        vertical-align: middle;\n",
       "    }\n",
       "\n",
       "    .dataframe tbody tr th {\n",
       "        vertical-align: top;\n",
       "    }\n",
       "\n",
       "    .dataframe thead th {\n",
       "        text-align: right;\n",
       "    }\n",
       "</style>\n",
       "<table border=\"1\" class=\"dataframe\">\n",
       "  <thead>\n",
       "    <tr style=\"text-align: right;\">\n",
       "      <th></th>\n",
       "      <th>ip</th>\n",
       "      <th>app</th>\n",
       "      <th>device</th>\n",
       "      <th>os</th>\n",
       "      <th>channel</th>\n",
       "      <th>click_time</th>\n",
       "      <th>attributed_time</th>\n",
       "      <th>is_attributed</th>\n",
       "      <th>year</th>\n",
       "      <th>weekday</th>\n",
       "      <th>...</th>\n",
       "      <th>f1_true_ratio_app</th>\n",
       "      <th>f1_true_ratio_device</th>\n",
       "      <th>f1_true_ratio_os</th>\n",
       "      <th>f1_true_ratio_channel</th>\n",
       "      <th>f1_true_ratio_hour</th>\n",
       "      <th>f2_ratio_subapp</th>\n",
       "      <th>f2_ratio_subdevice</th>\n",
       "      <th>f2_ratio_subos</th>\n",
       "      <th>f2_ratio_subchannel</th>\n",
       "      <th>f2_ratio_subhour</th>\n",
       "    </tr>\n",
       "  </thead>\n",
       "  <tbody>\n",
       "    <tr>\n",
       "      <th>0</th>\n",
       "      <td>46881</td>\n",
       "      <td>3</td>\n",
       "      <td>1</td>\n",
       "      <td>13</td>\n",
       "      <td>124</td>\n",
       "      <td>2017-11-06 14:43:10</td>\n",
       "      <td>NaN</td>\n",
       "      <td>0</td>\n",
       "      <td>2017</td>\n",
       "      <td>0</td>\n",
       "      <td>...</td>\n",
       "      <td>0.77648</td>\n",
       "      <td>-0.074584</td>\n",
       "      <td>-0.122551</td>\n",
       "      <td>0.0</td>\n",
       "      <td>0.045570</td>\n",
       "      <td>-0.161019</td>\n",
       "      <td>-0.271914</td>\n",
       "      <td>-0.080215</td>\n",
       "      <td>-0.015897</td>\n",
       "      <td>-0.008167</td>\n",
       "    </tr>\n",
       "    <tr>\n",
       "      <th>1</th>\n",
       "      <td>22688</td>\n",
       "      <td>3</td>\n",
       "      <td>1</td>\n",
       "      <td>18</td>\n",
       "      <td>124</td>\n",
       "      <td>2017-11-06 14:49:43</td>\n",
       "      <td>NaN</td>\n",
       "      <td>0</td>\n",
       "      <td>2017</td>\n",
       "      <td>0</td>\n",
       "      <td>...</td>\n",
       "      <td>0.77648</td>\n",
       "      <td>-0.074584</td>\n",
       "      <td>0.555775</td>\n",
       "      <td>0.0</td>\n",
       "      <td>0.045570</td>\n",
       "      <td>-0.161019</td>\n",
       "      <td>-0.271914</td>\n",
       "      <td>-0.022995</td>\n",
       "      <td>-0.015897</td>\n",
       "      <td>-0.008167</td>\n",
       "    </tr>\n",
       "    <tr>\n",
       "      <th>2</th>\n",
       "      <td>23006</td>\n",
       "      <td>3</td>\n",
       "      <td>1</td>\n",
       "      <td>19</td>\n",
       "      <td>124</td>\n",
       "      <td>2017-11-06 14:55:25</td>\n",
       "      <td>NaN</td>\n",
       "      <td>0</td>\n",
       "      <td>2017</td>\n",
       "      <td>0</td>\n",
       "      <td>...</td>\n",
       "      <td>0.77648</td>\n",
       "      <td>-0.074584</td>\n",
       "      <td>12.285683</td>\n",
       "      <td>0.0</td>\n",
       "      <td>0.045570</td>\n",
       "      <td>-0.161019</td>\n",
       "      <td>-0.271914</td>\n",
       "      <td>-0.064535</td>\n",
       "      <td>-0.015897</td>\n",
       "      <td>-0.008167</td>\n",
       "    </tr>\n",
       "    <tr>\n",
       "      <th>3</th>\n",
       "      <td>65267</td>\n",
       "      <td>3</td>\n",
       "      <td>1</td>\n",
       "      <td>17</td>\n",
       "      <td>124</td>\n",
       "      <td>2017-11-06 15:03:11</td>\n",
       "      <td>NaN</td>\n",
       "      <td>0</td>\n",
       "      <td>2017</td>\n",
       "      <td>0</td>\n",
       "      <td>...</td>\n",
       "      <td>0.77648</td>\n",
       "      <td>-0.074584</td>\n",
       "      <td>-0.142435</td>\n",
       "      <td>0.0</td>\n",
       "      <td>0.131609</td>\n",
       "      <td>-0.161019</td>\n",
       "      <td>-0.271914</td>\n",
       "      <td>-0.027231</td>\n",
       "      <td>-0.015897</td>\n",
       "      <td>-0.021051</td>\n",
       "    </tr>\n",
       "    <tr>\n",
       "      <th>4</th>\n",
       "      <td>103558</td>\n",
       "      <td>3</td>\n",
       "      <td>1</td>\n",
       "      <td>19</td>\n",
       "      <td>124</td>\n",
       "      <td>2017-11-06 15:07:24</td>\n",
       "      <td>NaN</td>\n",
       "      <td>0</td>\n",
       "      <td>2017</td>\n",
       "      <td>0</td>\n",
       "      <td>...</td>\n",
       "      <td>0.77648</td>\n",
       "      <td>-0.074584</td>\n",
       "      <td>12.285683</td>\n",
       "      <td>0.0</td>\n",
       "      <td>0.131609</td>\n",
       "      <td>-0.161019</td>\n",
       "      <td>-0.271914</td>\n",
       "      <td>-0.064535</td>\n",
       "      <td>-0.015897</td>\n",
       "      <td>-0.021051</td>\n",
       "    </tr>\n",
       "  </tbody>\n",
       "</table>\n",
       "<p>5 rows × 22 columns</p>\n",
       "</div>"
      ],
      "text/plain": [
       "       ip  app  device  os  channel           click_time attributed_time  \\\n",
       "0   46881    3       1  13      124  2017-11-06 14:43:10             NaN   \n",
       "1   22688    3       1  18      124  2017-11-06 14:49:43             NaN   \n",
       "2   23006    3       1  19      124  2017-11-06 14:55:25             NaN   \n",
       "3   65267    3       1  17      124  2017-11-06 15:03:11             NaN   \n",
       "4  103558    3       1  19      124  2017-11-06 15:07:24             NaN   \n",
       "\n",
       "   is_attributed  year  weekday        ...         f1_true_ratio_app  \\\n",
       "0              0  2017        0        ...                   0.77648   \n",
       "1              0  2017        0        ...                   0.77648   \n",
       "2              0  2017        0        ...                   0.77648   \n",
       "3              0  2017        0        ...                   0.77648   \n",
       "4              0  2017        0        ...                   0.77648   \n",
       "\n",
       "   f1_true_ratio_device  f1_true_ratio_os  f1_true_ratio_channel  \\\n",
       "0             -0.074584         -0.122551                    0.0   \n",
       "1             -0.074584          0.555775                    0.0   \n",
       "2             -0.074584         12.285683                    0.0   \n",
       "3             -0.074584         -0.142435                    0.0   \n",
       "4             -0.074584         12.285683                    0.0   \n",
       "\n",
       "   f1_true_ratio_hour  f2_ratio_subapp  f2_ratio_subdevice  f2_ratio_subos  \\\n",
       "0            0.045570        -0.161019           -0.271914       -0.080215   \n",
       "1            0.045570        -0.161019           -0.271914       -0.022995   \n",
       "2            0.045570        -0.161019           -0.271914       -0.064535   \n",
       "3            0.131609        -0.161019           -0.271914       -0.027231   \n",
       "4            0.131609        -0.161019           -0.271914       -0.064535   \n",
       "\n",
       "   f2_ratio_subchannel  f2_ratio_subhour  \n",
       "0            -0.015897         -0.008167  \n",
       "1            -0.015897         -0.008167  \n",
       "2            -0.015897         -0.008167  \n",
       "3            -0.015897         -0.021051  \n",
       "4            -0.015897         -0.021051  \n",
       "\n",
       "[5 rows x 22 columns]"
      ]
     },
     "execution_count": 14,
     "metadata": {},
     "output_type": "execute_result"
    }
   ],
   "source": [
    "df_train.head()"
   ]
  },
  {
   "cell_type": "code",
   "execution_count": 15,
   "metadata": {},
   "outputs": [],
   "source": [
    "### Categorical Variable One hot\n",
    "## factorize를 통해 one hot encoding\n",
    "## changing Data type\n",
    "### 굳이 안해도 베이스라인 차이 없음\n",
    "\n",
    "\n",
    "# categorical_cols = ['ip', 'app', 'device', 'os',\n",
    "#                     'channel']\n",
    "# for col in categorical_cols:\n",
    "#     df_train[col] = df_train[col].astype('category')\n",
    "#     df_is_attributed_all[col]= df_is_attributed_all[col].astype('category')"
   ]
  },
  {
   "cell_type": "code",
   "execution_count": 16,
   "metadata": {},
   "outputs": [
    {
     "data": {
      "text/plain": [
       "0    18443421\n",
       "1       45468\n",
       "Name: is_attributed, dtype: int64"
      ]
     },
     "execution_count": 16,
     "metadata": {},
     "output_type": "execute_result"
    }
   ],
   "source": [
    "df_train['is_attributed'].value_counts()"
   ]
  },
  {
   "cell_type": "code",
   "execution_count": 17,
   "metadata": {},
   "outputs": [],
   "source": [
    "## Down Sampling\n",
    "df_minority = df_train[df_train.is_attributed == 1]\n",
    "df_majority = df_train[df_train.is_attributed == 0]\n",
    "\n",
    "df_majority_resample = resample(df_majority, replace = False,\n",
    "                               n_samples=45468,\n",
    "                               random_state=123)\n",
    "\n",
    "df_downsampled = pd.concat([df_majority_resample,df_minority])"
   ]
  },
  {
   "cell_type": "code",
   "execution_count": 18,
   "metadata": {},
   "outputs": [
    {
     "data": {
      "text/plain": [
       "1    45468\n",
       "0    45468\n",
       "Name: is_attributed, dtype: int64"
      ]
     },
     "execution_count": 18,
     "metadata": {},
     "output_type": "execute_result"
    }
   ],
   "source": [
    "df_downsampled.is_attributed.value_counts()"
   ]
  },
  {
   "cell_type": "markdown",
   "metadata": {},
   "source": [
    "### Base Line 모델\n",
    "Random forest"
   ]
  },
  {
   "cell_type": "code",
   "execution_count": 226,
   "metadata": {},
   "outputs": [],
   "source": [
    "## Due to Class imbalance Need to down sample\n",
    "\n",
    "## int to category dtype\n",
    "\n",
    "to_train_columns = ['ip','app','device','os','channel','weekday','hour']\n",
    "target_column = ['is_attributed']\n",
    "\n",
    "x_train, x_test , y_train, y_test =  train_test_split(df_downsampled[to_train_columns],df_downsampled[target_column], \n",
    "                                                     test_size = 0.3 ,\n",
    "                                                     random_state=123)"
   ]
  },
  {
   "cell_type": "code",
   "execution_count": 227,
   "metadata": {},
   "outputs": [
    {
     "name": "stderr",
     "output_type": "stream",
     "text": [
      "c:\\program files\\anaconda3\\envs\\cuda\\lib\\site-packages\\ipykernel_launcher.py:17: DataConversionWarning: A column-vector y was passed when a 1d array was expected. Please change the shape of y to (n_samples,), for example using ravel().\n"
     ]
    },
    {
     "name": "stdout",
     "output_type": "stream",
     "text": [
      "Elapse Time 0.7461671829223633\n"
     ]
    }
   ],
   "source": [
    "start_time = time.time()\n",
    "\n",
    "hyper_parmas = {'n_estimators': 100,\n",
    "               'max_features': 'auto',\n",
    "               'max_depth': 50,\n",
    "               'min_samples_split': 2,\n",
    "               'min_samples_leaf': 4,\n",
    "               'bootstrap': True}\n",
    "\n",
    "rf = RandomForestClassifier(n_estimators=hyper_parmas['n_estimators'],\n",
    "                            max_features=hyper_parmas['max_features'],\n",
    "                            max_depth=hyper_parmas[\"max_depth\"],\n",
    "                            min_samples_leaf=hyper_parmas[\"min_samples_leaf\"],\n",
    "                            min_samples_split=hyper_parmas['min_samples_split'],\n",
    "                            random_state=123456,\n",
    "                            n_jobs=8)\n",
    "rf.fit(x_train,y_train)\n",
    "end_time = time.time()\n",
    "\n",
    "print(\"Elapse Time\", end_time - start_time)"
   ]
  },
  {
   "cell_type": "code",
   "execution_count": 228,
   "metadata": {
    "scrolled": true
   },
   "outputs": [
    {
     "name": "stdout",
     "output_type": "stream",
     "text": [
      "[[13202   532]\n",
      " [ 1707 11840]]\n",
      "              precision    recall  f1-score   support\n",
      "\n",
      "     class 0       0.89      0.96      0.92     13734\n",
      "     class 1       0.96      0.87      0.91     13547\n",
      "\n",
      "   micro avg       0.92      0.92      0.92     27281\n",
      "   macro avg       0.92      0.92      0.92     27281\n",
      "weighted avg       0.92      0.92      0.92     27281\n",
      "\n"
     ]
    }
   ],
   "source": [
    "from sklearn.metrics import confusion_matrix, classification_report\n",
    "\n",
    "y_pred = rf.predict(x_test)\n",
    "\n",
    "print(confusion_matrix(y_test,y_pred))\n",
    "print(classification_report(y_test,y_pred, target_names = ['class 0','class 1']))"
   ]
  },
  {
   "cell_type": "markdown",
   "metadata": {},
   "source": [
    "#### Baseline model F1 score : 0.92"
   ]
  },
  {
   "cell_type": "code",
   "execution_count": 229,
   "metadata": {},
   "outputs": [
    {
     "data": {
      "text/plain": [
       "array([[6.78478711e-04, 9.99321521e-01],\n",
       "       [9.06259744e-01, 9.37402555e-02],\n",
       "       [9.34821764e-01, 6.51782356e-02],\n",
       "       ...,\n",
       "       [4.49367577e-02, 9.55063242e-01],\n",
       "       [9.96032371e-01, 3.96762905e-03],\n",
       "       [8.71537026e-01, 1.28462974e-01]])"
      ]
     },
     "execution_count": 229,
     "metadata": {},
     "output_type": "execute_result"
    }
   ],
   "source": [
    "rf.predict_proba(x_test)"
   ]
  },
  {
   "cell_type": "code",
   "execution_count": 230,
   "metadata": {},
   "outputs": [
    {
     "data": {
      "text/plain": [
       "Index(['ip', 'app', 'device', 'os', 'channel', 'click_time', 'attributed_time',\n",
       "       'is_attributed', 'year', 'weekday', 'hour', 'app_true_ratio',\n",
       "       'f1_true_ratio_app', 'f1_true_ratio_device', 'f1_true_ratio_os',\n",
       "       'f1_true_ratio_channel', 'f1_true_ratio_hour', 'f2_ratio_subapp',\n",
       "       'f2_ratio_subdevice', 'f2_ratio_subos', 'f2_ratio_subchannel',\n",
       "       'f2_ratio_subhour'],\n",
       "      dtype='object')"
      ]
     },
     "execution_count": 230,
     "metadata": {},
     "output_type": "execute_result"
    }
   ],
   "source": [
    "df_train.columns"
   ]
  },
  {
   "cell_type": "markdown",
   "metadata": {},
   "source": [
    "### F1 추가"
   ]
  },
  {
   "cell_type": "code",
   "execution_count": 231,
   "metadata": {
    "scrolled": true
   },
   "outputs": [
    {
     "name": "stderr",
     "output_type": "stream",
     "text": [
      "c:\\program files\\anaconda3\\envs\\cuda\\lib\\site-packages\\ipykernel_launcher.py:27: DataConversionWarning: A column-vector y was passed when a 1d array was expected. Please change the shape of y to (n_samples,), for example using ravel().\n"
     ]
    },
    {
     "name": "stdout",
     "output_type": "stream",
     "text": [
      "Elapse Time 0.9482133388519287\n",
      "[[13209   525]\n",
      " [ 1670 11877]]\n",
      "              precision    recall  f1-score   support\n",
      "\n",
      "     class 0       0.89      0.96      0.92     13734\n",
      "     class 1       0.96      0.88      0.92     13547\n",
      "\n",
      "   micro avg       0.92      0.92      0.92     27281\n",
      "   macro avg       0.92      0.92      0.92     27281\n",
      "weighted avg       0.92      0.92      0.92     27281\n",
      "\n"
     ]
    }
   ],
   "source": [
    "to_train_columns =['ip', 'app', 'device', 'os', 'channel'\n",
    "       ,  'weekday', 'hour',\n",
    "       'f1_true_ratio_app', 'f1_true_ratio_device', 'f1_true_ratio_os',\n",
    "       'f1_true_ratio_channel', 'f1_true_ratio_hour']\n",
    "target_column = ['is_attributed']\n",
    "\n",
    "x_train, x_test , y_train, y_test =  train_test_split(df_downsampled[to_train_columns],df_downsampled[target_column], \n",
    "                                                     test_size = 0.3 ,\n",
    "                                                     random_state=123)\n",
    "\n",
    "start_time = time.time()\n",
    "\n",
    "hyper_parmas = {'n_estimators': 100,\n",
    "               'max_features': 'auto',\n",
    "               'max_depth': 50,\n",
    "               'min_samples_split': 2,\n",
    "               'min_samples_leaf': 4,\n",
    "               'bootstrap': True}\n",
    "rf = RandomForestClassifier(n_estimators=hyper_parmas['n_estimators'],\n",
    "                            max_features=hyper_parmas['max_features'],\n",
    "                            max_depth=hyper_parmas[\"max_depth\"],\n",
    "                            min_samples_leaf=hyper_parmas[\"min_samples_leaf\"],\n",
    "                            min_samples_split=hyper_parmas['min_samples_split'],\n",
    "                            random_state=123456,\n",
    "                            n_jobs=8)\n",
    "\n",
    "rf.fit(x_train,y_train)\n",
    "end_time = time.time()\n",
    "\n",
    "print(\"Elapse Time\", end_time - start_time)\n",
    "\n",
    "y_pred = rf.predict(x_test)\n",
    "\n",
    "print(confusion_matrix(y_test,y_pred))\n",
    "print(classification_report(y_test,y_pred, target_names = ['class 0','class 1']))"
   ]
  },
  {
   "cell_type": "markdown",
   "metadata": {},
   "source": [
    "* 전체적으로 에러의 개수는 매우 살짝 줄어 들었다\n",
    "* class 1을 정확히 맞힌 비율이 늘어남\n",
    "* 성과 아주 살짝 있음"
   ]
  },
  {
   "cell_type": "markdown",
   "metadata": {},
   "source": [
    "### F2 추가"
   ]
  },
  {
   "cell_type": "code",
   "execution_count": 237,
   "metadata": {
    "scrolled": true
   },
   "outputs": [
    {
     "name": "stderr",
     "output_type": "stream",
     "text": [
      "c:\\program files\\anaconda3\\envs\\cuda\\lib\\site-packages\\ipykernel_launcher.py:23: DataConversionWarning: A column-vector y was passed when a 1d array was expected. Please change the shape of y to (n_samples,), for example using ravel().\n"
     ]
    },
    {
     "name": "stdout",
     "output_type": "stream",
     "text": [
      "Elapse Time 2.839637041091919\n",
      "[[12996   738]\n",
      " [ 1542 12005]]\n",
      "              precision    recall  f1-score   support\n",
      "\n",
      "     class 0       0.89      0.95      0.92     13734\n",
      "     class 1       0.94      0.89      0.91     13547\n",
      "\n",
      "   micro avg       0.92      0.92      0.92     27281\n",
      "   macro avg       0.92      0.92      0.92     27281\n",
      "weighted avg       0.92      0.92      0.92     27281\n",
      "\n"
     ]
    }
   ],
   "source": [
    "to_train_columns =['ip', 'app', 'device', 'os', 'channel'\n",
    "       ,  'weekday', 'hour', 'f2_ratio_subapp',\n",
    "       'f2_ratio_subdevice', 'f2_ratio_subos', 'f2_ratio_subchannel',\n",
    "       'f2_ratio_subhour']\n",
    "target_column = ['is_attributed']\n",
    "\n",
    "x_train, x_test , y_train, y_test =  train_test_split(df_downsampled[to_train_columns],df_downsampled[target_column], \n",
    "                                                     test_size = 0.3 ,\n",
    "                                                     random_state=123)\n",
    "\n",
    "start_time = time.time()\n",
    "\n",
    "rf = RandomForestClassifier(n_estimators=hyper_parmas['n_estimators'],\n",
    "                            max_features=hyper_parmas['max_features'],\n",
    "                            max_depth=hyper_parmas[\"max_depth\"],\n",
    "                            min_samples_leaf=hyper_parmas[\"min_samples_leaf\"],\n",
    "                            min_samples_split=hyper_parmas['min_samples_split'],\n",
    "                            random_state=123456,\n",
    "                            n_jobs=8)\n",
    "\n",
    "rf = RandomForestClassifier(n_estimators=300, random_state=123456\n",
    "                           , n_jobs=8)\n",
    "rf.fit(x_train,y_train)\n",
    "end_time = time.time()\n",
    "\n",
    "print(\"Elapse Time\", end_time - start_time)\n",
    "\n",
    "y_pred = rf.predict(x_test)\n",
    "\n",
    "print(confusion_matrix(c,y_pred))\n",
    "print(classification_report(y_test,y_pred, target_names = ['class 0','class 1']))"
   ]
  },
  {
   "cell_type": "markdown",
   "metadata": {},
   "source": [
    "* class 1을 정확히 맞힌 비율이 늘어남 (TN)\n",
    "* 재현율은 올랐지만 precision은 떨어짐\n"
   ]
  },
  {
   "cell_type": "code",
   "execution_count": null,
   "metadata": {},
   "outputs": [],
   "source": []
  }
 ],
 "metadata": {
  "kernelspec": {
   "display_name": "Python 3",
   "language": "python",
   "name": "python3"
  },
  "language_info": {
   "codemirror_mode": {
    "name": "ipython",
    "version": 3
   },
   "file_extension": ".py",
   "mimetype": "text/x-python",
   "name": "python",
   "nbconvert_exporter": "python",
   "pygments_lexer": "ipython3",
   "version": "3.5.6"
  }
 },
 "nbformat": 4,
 "nbformat_minor": 2
}
